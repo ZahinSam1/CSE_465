{
 "cells": [
  {
   "cell_type": "code",
   "execution_count": 1,
   "metadata": {},
   "outputs": [
    {
     "name": "stdout",
     "output_type": "stream",
     "text": [
      "pygame 2.5.2 (SDL 2.28.3, Python 3.11.5)\n",
      "Hello from the pygame community. https://www.pygame.org/contribute.html\n"
     ]
    }
   ],
   "source": [
    "import numpy as np\n",
    "import pygame\n",
    "import time\n",
    "import math"
   ]
  },
  {
   "cell_type": "code",
   "execution_count": 23,
   "metadata": {},
   "outputs": [],
   "source": [
    "pygame.init()\n",
    "screen = pygame.display.set_mode((400, 400))\n",
    "pygame.display.set_caption('Env render test')\n",
    "\n",
    "\n",
    "pygame.font.init()\n",
    "font = pygame.font.Font(None, 18)\n",
    "\n",
    "\n",
    "# screen.fill((255, 255, 255))\n",
    "# pygame.display.update()\n"
   ]
  },
  {
   "cell_type": "code",
   "execution_count": 3,
   "metadata": {},
   "outputs": [
    {
     "name": "stdout",
     "output_type": "stream",
     "text": [
      "[ 81.89684 175.18796]\n",
      "[277.972   296.39993]\n"
     ]
    }
   ],
   "source": [
    "pos1 = np.array(\n",
    "            [np.random.uniform(30, 370), np.random.uniform(30, 370)], dtype=np.float32)\n",
    "pos2 = np.array(\n",
    "            [np.random.uniform(30, 370), np.random.uniform(30, 370)], dtype=np.float32)\n",
    "\n",
    "print(pos1)\n",
    "print(pos2)"
   ]
  },
  {
   "cell_type": "code",
   "execution_count": 4,
   "metadata": {},
   "outputs": [],
   "source": [
    "angle = 0\n",
    "theta  = math.radians(angle)\n",
    "\n",
    "magnitude = 30\n",
    "# ! calculating the direction vector components vec(x) and vec(y) for both points\n",
    "dir_vector1_x = magnitude * math.cos(theta)\n",
    "dir_vector1_y = magnitude * math.sin(theta)\n",
    "\n",
    "dir_vector2_x = magnitude * math.cos(theta)\n",
    "dir_vector2_y = magnitude * math.sin(theta)"
   ]
  },
  {
   "cell_type": "code",
   "execution_count": 18,
   "metadata": {},
   "outputs": [
    {
     "name": "stdout",
     "output_type": "stream",
     "text": [
      "(165.24624633789062, 40.629417419433594)\n"
     ]
    }
   ],
   "source": [
    "dir_line_end1 = (pos1[0] + dir_vector1_x, pos1[1] + dir_vector1_y)\n",
    "print(dir_line_end1)"
   ]
  },
  {
   "cell_type": "code",
   "execution_count": 8,
   "metadata": {},
   "outputs": [],
   "source": [
    "# the center of the circle\n",
    "pos1_x, pos1_y = pos1\n",
    "\n",
    "# converting the float32 values to int values as pygame demands it\n",
    "# the center of the circle\n",
    "center1 = (int(pos1_x), int(pos1_y))\n",
    "\n",
    "pygame.draw.circle(screen, (0, 0, 255), center1, 20)\n",
    "\n",
    "# calculating the direction endpoint from the center\n",
    "dir_line_end1 = (center1[0] + dir_vector1_x, center1[1] + dir_vector1_y)\n",
    "pygame.draw.line(screen, (0, 0, 255), center1, dir_line_end1, 2)\n",
    "\n",
    "\n",
    "# the center of the circle\n",
    "pos2_x, pos2_y = pos2\n",
    "# converting the float32 values to int values as pygame demands it\n",
    "# the center of the circle\n",
    "center2 = (int(pos2_x), int(pos2_y))\n",
    "\n",
    "pygame.draw.circle(screen, (255, 0, 0), center2, 20)\n",
    "\n",
    "# calculating the direction endpoint from the center\n",
    "dir_line_end2 = (center2[0] + dir_vector2_x, center2[1] + dir_vector2_y)\n",
    "pygame.draw.line(screen, (255, 0, 0), center2, dir_line_end2, 2)\n",
    "\n",
    "\n",
    "pygame.display.update()"
   ]
  },
  {
   "cell_type": "code",
   "execution_count": 13,
   "metadata": {},
   "outputs": [
    {
     "name": "stdout",
     "output_type": "stream",
     "text": [
      "(226.99999999999997, 373.98076211353316)\n"
     ]
    }
   ],
   "source": [
    "dir_line_end1 = (center1[0] + dir_vector1_x, center1[1] + dir_vector1_y)\n",
    "print(dir_line_end1)"
   ]
  },
  {
   "cell_type": "code",
   "execution_count": 11,
   "metadata": {},
   "outputs": [
    {
     "ename": "KeyboardInterrupt",
     "evalue": "",
     "output_type": "error",
     "traceback": [
      "\u001b[1;31m---------------------------------------------------------------------------\u001b[0m",
      "\u001b[1;31mKeyboardInterrupt\u001b[0m                         Traceback (most recent call last)",
      "\u001b[1;32mc:\\jupyter\\Reinforcement Learning\\Test\\Testing_code.ipynb Cell 8\u001b[0m line \u001b[0;36m3\n\u001b[0;32m     <a href='vscode-notebook-cell:/c%3A/jupyter/Reinforcement%20Learning/Test/Testing_code.ipynb#X10sZmlsZQ%3D%3D?line=29'>30</a>\u001b[0m pygame\u001b[39m.\u001b[39mdraw\u001b[39m.\u001b[39mcircle(screen, (\u001b[39m255\u001b[39m, \u001b[39m0\u001b[39m, \u001b[39m0\u001b[39m), center2, \u001b[39m15\u001b[39m)\n\u001b[0;32m     <a href='vscode-notebook-cell:/c%3A/jupyter/Reinforcement%20Learning/Test/Testing_code.ipynb#X10sZmlsZQ%3D%3D?line=33'>34</a>\u001b[0m pygame\u001b[39m.\u001b[39mdisplay\u001b[39m.\u001b[39mupdate()\n\u001b[1;32m---> <a href='vscode-notebook-cell:/c%3A/jupyter/Reinforcement%20Learning/Test/Testing_code.ipynb#X10sZmlsZQ%3D%3D?line=34'>35</a>\u001b[0m pygame\u001b[39m.\u001b[39mtime\u001b[39m.\u001b[39mdelay(\u001b[39m100\u001b[39m)\n",
      "\u001b[1;31mKeyboardInterrupt\u001b[0m: "
     ]
    }
   ],
   "source": [
    "pos1_x, pos1_y = pos1\n",
    "center1 = (int(pos1_x), int(pos1_y))\n",
    "pos2_x, pos2_y = pos2\n",
    "center2 = (int(pos2_x), int(pos2_y))\n",
    "\n",
    "angle = 0\n",
    "\n",
    "magnitude = 30\n",
    "\n",
    "while True:\n",
    "    screen.fill((255, 255, 255))\n",
    "\n",
    "    angle += 10\n",
    "    theta = math.radians(angle)\n",
    "    \n",
    "    dir_vector1_x = magnitude * math.cos(theta)\n",
    "    dir_vector1_y = magnitude * math.sin(theta)\n",
    "\n",
    "    dir_vector2_x = magnitude * math.cos(theta+20)\n",
    "    dir_vector2_y = magnitude * math.sin(theta+20)\n",
    "\n",
    "\n",
    "    dir_line_end1 = (center1[0] + dir_vector1_x, center1[1] + dir_vector1_y)\n",
    "    pygame.draw.circle(screen, (0, 0, 255), center1, 15)\n",
    "    pygame.draw.line(screen, (0, 0, 255), center1, dir_line_end1, 5)\n",
    "\n",
    "    \n",
    "    dir_line_end2 = (center2[0] + dir_vector2_x, center2[1] + dir_vector2_y)\n",
    "    pygame.draw.line(screen, (255, 0, 0), center2, dir_line_end2, 5)\n",
    "    pygame.draw.circle(screen, (255, 0, 0), center2, 15)\n",
    "\n",
    "    \n",
    "\n",
    "    pygame.display.update()\n",
    "    pygame.time.delay(100)\n"
   ]
  },
  {
   "cell_type": "code",
   "execution_count": 12,
   "metadata": {},
   "outputs": [],
   "source": [
    "pygame.quit()"
   ]
  },
  {
   "cell_type": "code",
   "execution_count": 13,
   "metadata": {},
   "outputs": [],
   "source": [
    " class Agent:\n",
    "    def __init__(self, agent_name, agent_index):\n",
    "        self.index = agent_index\n",
    "        self.agent = agent_name\n",
    "        self.health = None\n",
    "        self.isHit = False\n",
    "        self.move = True\n",
    "        self.movement_speed = 1.00\n",
    "        self.previous_position = np.array([0, 0], dtype=np.float32)\n",
    "        self.current_position = None\n",
    "        self.same_position = False\n",
    "        self.current_step = 0\n",
    "        self.action = None\n",
    "\n",
    "\n",
    "        self.angle = 0\n",
    "        self.center = 0\n",
    "        self.direction = 0\n",
    "        self.direction_end = 0\n",
    "        self.draw_direction_end = 0\n",
    "\n",
    "        \n",
    "        \n",
    "\n",
    "    def agent_action(self, action):\n",
    "\n",
    "        pass\n",
    "\n",
    "    def agent_reset(self, width, height):\n",
    "        padding = 30\n",
    "        # updating the initial random position of the agent at 1st\n",
    "        self.current_position = np.array(\n",
    "            [np.random.uniform(30, width - padding), np.random.uniform(30, width - padding)], dtype=np.float32)\n",
    "\n",
    "        # updating the initial orientation to 0 degree at 1st\n",
    "        theta = math.radians(self.angle)\n",
    "        dir_vec_x = padding * math.cos(theta)\n",
    "        dir_vec_y = padding * math.sin(theta)\n",
    "        self.direction_end = np.array([self.current_position[0] + dir_vec_x, self.current_position[1] + dir_vec_y ], dtype=np.float32)\n",
    "        self.draw_direction_end = (self.current_position[0] + dir_vec_x, self.current_position[1] + dir_vec_y )\n",
    "\n",
    "    def get_direction(self, angle):\n",
    "        center = (int(self.current_position[0]), int(self.current_position[1]))\n",
    "        self.center = center\n",
    "\n",
    "        theta = math.radians(self.angle)\n",
    "        directional_vector_x = magnitude * math.cos(theta)\n",
    "        directional_vector_y = magnitude * math.sin(theta)\n",
    "            \n",
    "        directional_line_end = np.array([center[0] + directional_vector_x, center[1] + directional_vector_y ], dtype=np.float32)\n",
    "        self.direction_end = directional_line_end\n",
    "\n",
    "        direction = directional_line_end - center\n",
    "        direction /= np.linalg.norm(direction)\n",
    "        self.direction = direction\n",
    "        self.draw_direction_end = (center[0] + directional_vector_x, center[1] + directional_vector_y )\n",
    "\n",
    "\n",
    "        \n",
    "    def step_update(self, action, range_x, range_y):\n",
    "        \n",
    "        # ! if used directional rotational movement\n",
    "        # rotate clockwise\n",
    "        if action == 0:\n",
    "\n",
    "            self.angle += 10\n",
    "            self.get_direction(self.angle)\n",
    "\n",
    "        # rotate anti-clockwise\n",
    "        elif action == 1:\n",
    "            self.angle -= 10\n",
    "            self.get_direction(self.angle)\n",
    "\n",
    "        # move front\n",
    "        elif action == 2:\n",
    "            self.current_position = self.current_position + self.direction * self.movement_speed\n",
    "            self.get_direction(self.angle)\n",
    "\n",
    "        # move back\n",
    "        elif action == 3:\n",
    "            self.current_position = self.current_position - self.direction * self.movement_speed\n",
    "            self.get_direction(self.angle)\n",
    "            \n",
    "        # do nothing / wait \n",
    "        elif action == 4:\n",
    "            pass\n",
    "\n",
    "        \n",
    "        self.current_position[0] = np.clip(self.current_position[0], 0, range_x)\n",
    "        self.current_position[1] = np.clip(self.current_position[1], 0, range_y)\n"
   ]
  },
  {
   "cell_type": "code",
   "execution_count": 14,
   "metadata": {},
   "outputs": [],
   "source": [
    "agent = Agent('prey', 1)\n",
    "agent.agent_reset(400, 400)"
   ]
  },
  {
   "cell_type": "markdown",
   "metadata": {},
   "source": [
    "Init pos"
   ]
  },
  {
   "cell_type": "code",
   "execution_count": 15,
   "metadata": {},
   "outputs": [
    {
     "data": {
      "text/plain": [
       "array([298.8917, 301.3598], dtype=float32)"
      ]
     },
     "execution_count": 15,
     "metadata": {},
     "output_type": "execute_result"
    }
   ],
   "source": [
    "agent.current_position"
   ]
  },
  {
   "cell_type": "markdown",
   "metadata": {},
   "source": [
    "Init direction end"
   ]
  },
  {
   "cell_type": "code",
   "execution_count": 16,
   "metadata": {},
   "outputs": [
    {
     "data": {
      "text/plain": [
       "array([328.8917, 301.3598], dtype=float32)"
      ]
     },
     "execution_count": 16,
     "metadata": {},
     "output_type": "execute_result"
    }
   ],
   "source": [
    "agent.direction_end"
   ]
  },
  {
   "cell_type": "markdown",
   "metadata": {},
   "source": [
    "Step update"
   ]
  },
  {
   "cell_type": "code",
   "execution_count": 19,
   "metadata": {},
   "outputs": [],
   "source": [
    "agent.step_update(0, 400, 400)"
   ]
  },
  {
   "cell_type": "markdown",
   "metadata": {},
   "source": [
    "updated position"
   ]
  },
  {
   "cell_type": "code",
   "execution_count": 20,
   "metadata": {},
   "outputs": [
    {
     "data": {
      "text/plain": [
       "20"
      ]
     },
     "execution_count": 20,
     "metadata": {},
     "output_type": "execute_result"
    }
   ],
   "source": [
    "agent.angle"
   ]
  },
  {
   "cell_type": "code",
   "execution_count": 21,
   "metadata": {},
   "outputs": [
    {
     "data": {
      "text/plain": [
       "array([298.8917, 301.3598], dtype=float32)"
      ]
     },
     "execution_count": 21,
     "metadata": {},
     "output_type": "execute_result"
    }
   ],
   "source": [
    "agent.current_position"
   ]
  },
  {
   "cell_type": "markdown",
   "metadata": {},
   "source": [
    "updated direction end"
   ]
  },
  {
   "cell_type": "code",
   "execution_count": 22,
   "metadata": {},
   "outputs": [
    {
     "data": {
      "text/plain": [
       "array([326.19077, 311.2606 ], dtype=float32)"
      ]
     },
     "execution_count": 22,
     "metadata": {},
     "output_type": "execute_result"
    }
   ],
   "source": [
    "agent.direction_end"
   ]
  },
  {
   "cell_type": "code",
   "execution_count": 32,
   "metadata": {},
   "outputs": [
    {
     "ename": "KeyboardInterrupt",
     "evalue": "",
     "output_type": "error",
     "traceback": [
      "\u001b[1;31m---------------------------------------------------------------------------\u001b[0m",
      "\u001b[1;31mKeyboardInterrupt\u001b[0m                         Traceback (most recent call last)",
      "\u001b[1;32mc:\\jupyter\\Reinforcement Learning\\Test\\Testing_code.ipynb Cell 23\u001b[0m line \u001b[0;36m1\n\u001b[0;32m      <a href='vscode-notebook-cell:/c%3A/jupyter/Reinforcement%20Learning/Test/Testing_code.ipynb#X30sZmlsZQ%3D%3D?line=8'>9</a>\u001b[0m pygame\u001b[39m.\u001b[39mdraw\u001b[39m.\u001b[39mline(screen, (\u001b[39m0\u001b[39m, \u001b[39m0\u001b[39m, \u001b[39m255\u001b[39m), agent\u001b[39m.\u001b[39mcenter, agent\u001b[39m.\u001b[39mdraw_direction_end, \u001b[39m5\u001b[39m)\n\u001b[0;32m     <a href='vscode-notebook-cell:/c%3A/jupyter/Reinforcement%20Learning/Test/Testing_code.ipynb#X30sZmlsZQ%3D%3D?line=11'>12</a>\u001b[0m pygame\u001b[39m.\u001b[39mdisplay\u001b[39m.\u001b[39mupdate()\n\u001b[1;32m---> <a href='vscode-notebook-cell:/c%3A/jupyter/Reinforcement%20Learning/Test/Testing_code.ipynb#X30sZmlsZQ%3D%3D?line=12'>13</a>\u001b[0m pygame\u001b[39m.\u001b[39mtime\u001b[39m.\u001b[39mdelay(\u001b[39m60\u001b[39m)\n",
      "\u001b[1;31mKeyboardInterrupt\u001b[0m: "
     ]
    }
   ],
   "source": [
    "\n",
    "agent.movement_speed = 1\n",
    "\n",
    "while True:\n",
    "    screen.fill((255, 255, 255))\n",
    "\n",
    "    agent.step_update(4, 400, 400)\n",
    "\n",
    "    pygame.draw.circle(screen, (0, 0, 255), agent.center, 15)\n",
    "    pygame.draw.line(screen, (0, 0, 255), agent.center, agent.draw_direction_end, 5)\n",
    "\n",
    "\n",
    "    pygame.display.update()\n",
    "    pygame.time.delay(60)"
   ]
  },
  {
   "cell_type": "code",
   "execution_count": 199,
   "metadata": {},
   "outputs": [],
   "source": [
    "pygame.quit()"
   ]
  }
 ],
 "metadata": {
  "kernelspec": {
   "display_name": "myenv",
   "language": "python",
   "name": "python3"
  },
  "language_info": {
   "codemirror_mode": {
    "name": "ipython",
    "version": 3
   },
   "file_extension": ".py",
   "mimetype": "text/x-python",
   "name": "python",
   "nbconvert_exporter": "python",
   "pygments_lexer": "ipython3",
   "version": "3.11.5"
  }
 },
 "nbformat": 4,
 "nbformat_minor": 2
}
