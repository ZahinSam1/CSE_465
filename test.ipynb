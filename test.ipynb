{
 "cells": [
  {
   "cell_type": "code",
   "execution_count": 1,
   "metadata": {},
   "outputs": [
    {
     "name": "stdout",
     "output_type": "stream",
     "text": [
      "pygame 2.5.2 (SDL 2.28.3, Python 3.11.5)\n",
      "Hello from the pygame community. https://www.pygame.org/contribute.html\n"
     ]
    }
   ],
   "source": [
    "import numpy as np\n",
    "import pygame as pg\n",
    "import math\n",
    "import time"
   ]
  },
  {
   "cell_type": "code",
   "execution_count": 2,
   "metadata": {},
   "outputs": [],
   "source": [
    "WIDTH = 600\n",
    "HEIGHT = 600\n",
    "WHITE = (255, 255, 255)\n",
    "RED = (255, 0, 0)\n",
    "GREEN = (0, 255, 0)"
   ]
  },
  {
   "cell_type": "code",
   "execution_count": 7,
   "metadata": {},
   "outputs": [],
   "source": [
    "class Turret:\n",
    "    def __init__(self, screen, width, height):\n",
    "        self.pos_x = width/2\n",
    "        self.pos_y = height/2\n",
    "        self.position = np.array([self.pos_x, self.pos_y], dtype=np.float32)\n",
    "        self.screen = screen\n",
    "        self.angle = 0\n",
    "        self.radius = 15\n",
    "        \n",
    "        self.shoot_interval = 2 # shooting interval of the turret\n",
    "        self.center = (int(self.pos_x), int(self.pos_y))\n",
    "\n",
    "        self.rect = pg.draw.circle(screen, GREEN, self.center, self.radius)\n",
    "\n",
    "        self.bullet_pos = (self.center[0]+ self.radius * math.cos(math.radians(angle)), self.center[1]+ self.radius * math.sin(math.radians(angle)))\n",
    "\n",
    "        self.bullets = []\n",
    "\n",
    "        \n",
    "    def rotate_turret(self, end_point=None):\n",
    "        \"\"\"\n",
    "        the end_point here gives a position coordinate (x, y)\n",
    "        this needs to be used for the turret direction\n",
    "        \"\"\"\n",
    "        \n",
    "        magnitude = 30\n",
    "        angle = math.radians(self.angle)\n",
    "        # angle = self.angle\n",
    "        dir_vec_x = magnitude * math.cos(angle)\n",
    "        dir_vec_y = magnitude * math.sin(angle)\n",
    "\n",
    "        direction_end = (self.center[0]+ dir_vec_x, self.center[1] + dir_vec_y)\n",
    "\n",
    "        self.bullet_pos = (self.center[0]+ self.radius * math.cos(angle), self.center[1]+ self.radius * math.sin(angle))\n",
    "        self.rect = pg.draw.circle(screen, GREEN, self.center, self.radius)\n",
    "        # self.bullet_pos = direction_end / 2\n",
    "\n",
    "        return direction_end\n",
    "\n",
    "    def shoot(self):\n",
    "        bullet = Bullet(*self.bullet_pos, self.angle, self.screen)\n",
    "        self.bullets.append(bullet)\n",
    "        # if shooting interval is 2 then shoot at the current angle\n",
    "    def get_bullets(self):\n",
    "        return self.bullets\n",
    "        \n",
    "    def destroy_bullet(self, bullet):\n",
    "        self.bullets.remove(bullet)\n",
    "        "
   ]
  },
  {
   "cell_type": "code",
   "execution_count": 8,
   "metadata": {},
   "outputs": [],
   "source": [
    "class Bullet:\n",
    "    def __init__(self, x, y, angle, screen):\n",
    "        self.width = 2\n",
    "        self.height = 5\n",
    "        self.angle = angle\n",
    "        self.speed = 5\n",
    "\n",
    "        self.pos_x = x\n",
    "        self.pos_y = y\n",
    "        self.pos = np.array([self.pos_x, self.pos_y], dtype=np.float32)\n",
    "        self.center = (int(self.pos_x), int(self.pos_y))\n",
    "        self.radius = 10\n",
    "        \n",
    "        # this rect object is for drawing\n",
    "        self.rect = pg.draw.circle(screen, RED, self.center, self.radius)\n",
    "        \n",
    "    def move(self):\n",
    "        angle = math.radians(self.angle)\n",
    "        # self.pos_x += self.speed * math.cos(angle)\n",
    "        # self.pos_y += self.speed * math.sin(angle)\n",
    "        dir_end_x = self.pos[0] + self.speed * math.cos(angle)\n",
    "        dir_end_y = self.pos[1] + self.speed * math.sin(angle)\n",
    "\n",
    "        dir_end = np.array([dir_end_x, dir_end_y], dtype=np.float32)\n",
    "        direction = dir_end - self.pos\n",
    "        direction /= np.linalg.norm(direction)\n",
    "\n",
    "        draw_dir_end = (int(dir_end_x), int(dir_end_y))\n",
    "\n",
    "        self.angle = self.angle % 360\n",
    "\n",
    "        self.pos = self.pos + direction * self.speed\n",
    "        # pos = (self.pos[0], self.pos[1])\n",
    "        self.center = (int(self.pos[0]), int(self.pos[1]))\n",
    "        self.rect = pg.draw.circle(screen, RED, (self.center), self.radius)\n",
    "    \n",
    "        "
   ]
  },
  {
   "cell_type": "code",
   "execution_count": 9,
   "metadata": {},
   "outputs": [
    {
     "name": "stdout",
     "output_type": "stream",
     "text": [
      "294.7905546699921 329.5442325903662\n"
     ]
    }
   ],
   "source": [
    "angle = math.radians(100)\n",
    "x=300 + 30 * math.cos(angle)\n",
    "y=300 + 30 * math.sin(angle)\n",
    "print(x, y)"
   ]
  },
  {
   "cell_type": "code",
   "execution_count": 10,
   "metadata": {},
   "outputs": [],
   "source": [
    "# pg.init()\n",
    "# pg.display.init()\n",
    "\n",
    "# window = pg.display.set_mode((WIDTH, HEIGHT))\n",
    "# clock = pg.time.Clock()\n",
    "# screen = pg.Surface((WIDTH, HEIGHT))"
   ]
  },
  {
   "cell_type": "markdown",
   "metadata": {},
   "source": [
    "So every shape inside the pygame is a rect and all the functions of the rect can be used for collide or other stuff for the debug"
   ]
  },
  {
   "cell_type": "code",
   "execution_count": 292,
   "metadata": {},
   "outputs": [
    {
     "data": {
      "text/plain": [
       "True"
      ]
     },
     "execution_count": 292,
     "metadata": {},
     "output_type": "execute_result"
    }
   ],
   "source": [
    "# just need to take the object inside a variable and use it to need\n",
    "\n",
    "rect1 = pg.draw.rect(screen, RED, (310, 300, 50, 50))\n",
    "rect2 = pg.draw.circle(screen, RED, (300, 300), 15)\n",
    "\n",
    "\n",
    "rect2.colliderect(rect1)"
   ]
  },
  {
   "cell_type": "code",
   "execution_count": 11,
   "metadata": {},
   "outputs": [
    {
     "name": "stdout",
     "output_type": "stream",
     "text": [
      "1\n"
     ]
    }
   ],
   "source": [
    "pg.init()\n",
    "pg.display.init()\n",
    "\n",
    "window = pg.display.set_mode((WIDTH, HEIGHT))\n",
    "clock = pg.time.Clock()\n",
    "screen = pg.Surface((WIDTH, HEIGHT))\n",
    "screen.fill(WHITE)\n",
    "\n",
    "last_shot_time = 0\n",
    "fire_rate = 1000\n",
    "turret = Turret(screen, WIDTH, HEIGHT)\n",
    "# turret.angle = 45\n",
    "bullets = []\n",
    "running = True\n",
    "total_reward = 0 \n",
    "while running:\n",
    "    screen.fill(WHITE)\n",
    "    for event in pg.event.get():\n",
    "        if event.type == pg.QUIT:\n",
    "            running = False\n",
    "    current_time = pg.time.get_ticks()\n",
    "\n",
    "    # keys = pg.key.get_pressed()\n",
    "\n",
    "    # if keys[pg.K_SPACE]:\n",
    "    if current_time - last_shot_time >= fire_rate:\n",
    "        turret.shoot()\n",
    "\n",
    "        last_shot_time = current_time\n",
    "    else:\n",
    "        turret.angle += 10\n",
    "\n",
    "    for bullet in turret.get_bullets():\n",
    "        bullet.move()\n",
    "    # bullets = [bullet for bullet in bullets if screen.get_rect().colliderect(bullet.rect)]\n",
    "    #     # if not screen.get_rect().colliderect(bullet.rect):\n",
    "    #     #     bullets.remove(bullet)\n",
    "    #     # else:\n",
    "    #     #     pg.draw.rect(screen, RED, (bullet.rect.x, bullet.rect.y, bullet.rect.height, bullet.rect.width) )\n",
    "    \n",
    "\n",
    "    # pg.draw.rect(screen, GREEN, (turret.rect.x, turret.rect.y, turret.rect.width, turret.rect.height))\n",
    "    # pg.draw.circle(screen, GREEN, (turret.center), turret.radius)\n",
    "    \n",
    "    pg.draw.line(screen, GREEN, turret.center, turret.rotate_turret(), 4)\n",
    "\n",
    "    wall = pg.draw.rect(screen, (0, 0, 255), (500, 100, 40, 400))\n",
    "    \n",
    "    for bullet in turret.get_bullets():\n",
    "        # pg.draw.circle(screen, RED, (bullet.center), bullet.radius)\n",
    "\n",
    "        if bullet.pos[0] + 30 > WIDTH or bullet.pos[1] + 30 > HEIGHT:\n",
    "            turret.destroy_bullet(bullet)\n",
    "\n",
    "        if bullet.pos[0] - 30 < 0 or bullet.pos[1] - 30 < 0:\n",
    "            turret.destroy_bullet(bullet)\n",
    "\n",
    "        if bullet.rect.colliderect(wall):\n",
    "            turret.destroy_bullet(bullet)\n",
    "            total_reward += 1\n",
    "            print(total_reward)\n",
    "\n",
    "    window.blit(screen, screen.get_rect())\n",
    "    pg.event.pump()\n",
    "    pg.display.update()\n",
    "    clock.tick(60)\n",
    "\n",
    "pg.display.quit()\n",
    "pg.quit()"
   ]
  },
  {
   "cell_type": "code",
   "execution_count": 345,
   "metadata": {},
   "outputs": [],
   "source": [
    "pg.display.quit()\n",
    "pg.quit()"
   ]
  },
  {
   "cell_type": "code",
   "execution_count": null,
   "metadata": {},
   "outputs": [],
   "source": []
  }
 ],
 "metadata": {
  "kernelspec": {
   "display_name": "myenv",
   "language": "python",
   "name": "python3"
  },
  "language_info": {
   "codemirror_mode": {
    "name": "ipython",
    "version": 3
   },
   "file_extension": ".py",
   "mimetype": "text/x-python",
   "name": "python",
   "nbconvert_exporter": "python",
   "pygments_lexer": "ipython3",
   "version": "3.11.5"
  }
 },
 "nbformat": 4,
 "nbformat_minor": 2
}
