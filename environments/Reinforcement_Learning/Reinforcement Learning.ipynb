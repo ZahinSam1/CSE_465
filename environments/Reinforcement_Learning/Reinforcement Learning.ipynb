{
 "cells": [
  {
   "cell_type": "code",
   "execution_count": null,
   "id": "959a8d14",
   "metadata": {},
   "outputs": [],
   "source": [
    "# 1. import dependencies\n",
    "#%pip install stable-baselines3[extra]"
   ]
  },
  {
   "cell_type": "code",
   "execution_count": 1,
   "id": "c182d571",
   "metadata": {},
   "outputs": [],
   "source": [
    "import os\n",
    "import gymnasium as gym\n",
    "#import time\n",
    "from stable_baselines3 import PPO  #first algorithm import\n",
    "from stable_baselines3.common.vec_env import DummyVecEnv  #wrapper around our environment\n",
    "from stable_baselines3.common.evaluation import evaluate_policy  \n",
    "#to test our reward and standard deviation  "
   ]
  },
  {
   "cell_type": "code",
   "execution_count": 2,
   "id": "f734b186",
   "metadata": {},
   "outputs": [],
   "source": [
    "# 2. LOAD ENVIRONMENT\n",
    "#preinstalled open ai gym env\n",
    "environment_name = 'CartPole-v1'\n",
    "env = gym.make(environment_name)  # making our own env\n"
   ]
  },
  {
   "cell_type": "code",
   "execution_count": null,
   "id": "a68f0585",
   "metadata": {},
   "outputs": [],
   "source": [
    "# loop to test environment\n",
    "episodes = 5  # number of episodes, loop 5 times\n",
    "for episode in range(1, episodes+1):  # loop to test environment\n",
    "    state = env.reset()  # get initial set of observation . random seed\n",
    "    done = False  \n",
    "    score = 0\n",
    "\n",
    "    while not done:\n",
    "        env.render()  #view the environment\n",
    "        #time.sleep(0.1)\n",
    "        action = env.action_space.sample()  #genertating random action 0 or 1\n",
    "        n_state, reward, truncated, done, info = env.step(action)  #pass through our action in the environment\n",
    "        score += reward  #accumulating the reward\n",
    "    print('Episode:{} Score:{}' .format(episode, score))  \n",
    "env.close()"
   ]
  },
  {
   "cell_type": "code",
   "execution_count": 4,
   "id": "95af99e6",
   "metadata": {},
   "outputs": [
    {
     "data": {
      "text/plain": [
       "(array([-0.01024487, -0.01341263,  0.03435903, -0.03483175], dtype=float32),\n",
       " {})"
      ]
     },
     "execution_count": 4,
     "metadata": {},
     "output_type": "execute_result"
    }
   ],
   "source": [
    "env.reset()"
   ]
  },
  {
   "cell_type": "code",
   "execution_count": 14,
   "id": "49230ae3",
   "metadata": {},
   "outputs": [
    {
     "data": {
      "text/plain": [
       "Discrete(2)"
      ]
     },
     "execution_count": 14,
     "metadata": {},
     "output_type": "execute_result"
    }
   ],
   "source": [
    "env.action_space"
   ]
  },
  {
   "cell_type": "code",
   "execution_count": null,
   "id": "8c1d7de6",
   "metadata": {},
   "outputs": [],
   "source": [
    "#UNDERSTANDING ENVIRONMENT\n",
    "\n",
    "env.action_space\n",
    "# action 0 or 1. 0 will push to left and 1 will push to right\n",
    "# type of action space\n"
   ]
  },
  {
   "cell_type": "code",
   "execution_count": null,
   "id": "3f75ea4b",
   "metadata": {},
   "outputs": [],
   "source": [
    "env.observation_space\n"
   ]
  },
  {
   "cell_type": "code",
   "execution_count": null,
   "id": "50a35708",
   "metadata": {},
   "outputs": [],
   "source": [
    "env.observation_space.sample()\n",
    "# type of observation space\n",
    "# car_position, car_velocity, pole_angle, pole_velocity"
   ]
  },
  {
   "cell_type": "code",
   "execution_count": null,
   "id": "727fc851",
   "metadata": {},
   "outputs": [],
   "source": [
    "# make directories first\n",
    "log_path = os.path.join('Training', 'Logs')"
   ]
  },
  {
   "cell_type": "code",
   "execution_count": null,
   "id": "2543292b",
   "metadata": {},
   "outputs": [],
   "source": [
    "log_path"
   ]
  },
  {
   "cell_type": "code",
   "execution_count": null,
   "id": "d524f1f5",
   "metadata": {},
   "outputs": [],
   "source": [
    "env = gym.make(environment_name, render_mode='human')\n",
    "env = DummyVecEnv([lambda: env])\n",
    "model = PPO('MlpPolicy', env, verbose=1, tensorboard_log=log_path)"
   ]
  },
  {
   "cell_type": "code",
   "execution_count": null,
   "id": "3ce3a35d",
   "metadata": {},
   "outputs": [],
   "source": [
    "model.learn(total_timesteps=20000)\n"
   ]
  },
  {
   "cell_type": "code",
   "execution_count": null,
   "id": "219922ab",
   "metadata": {},
   "outputs": [],
   "source": [
    "env.close()"
   ]
  },
  {
   "cell_type": "code",
   "execution_count": null,
   "id": "baa3d797",
   "metadata": {},
   "outputs": [],
   "source": [
    "# SAVE AND RELOAD MODEL\n",
    "PPO_Path = os.path.join('Training', 'Saved Models', 'PPO_Model_Cartpole')"
   ]
  },
  {
   "cell_type": "code",
   "execution_count": null,
   "id": "710483d5",
   "metadata": {},
   "outputs": [],
   "source": [
    "model.save(PPO_Path)\n",
    "model = PPO.load(PPO_Path, env=env)"
   ]
  },
  {
   "cell_type": "code",
   "execution_count": null,
   "id": "399dd8a4",
   "metadata": {},
   "outputs": [],
   "source": [
    "# EVALUATE MODEL\n",
    "evaluate_policy(model, env, n_eval_episodes=10, render=True)\n",
    "# render is for visualization purposes so if we dont wanna see then render false"
   ]
  },
  {
   "cell_type": "code",
   "execution_count": null,
   "id": "2581d095",
   "metadata": {},
   "outputs": [],
   "source": [
    "#action, _ = model.predict(obs)"
   ]
  },
  {
   "cell_type": "code",
   "execution_count": null,
   "id": "9673202b",
   "metadata": {},
   "outputs": [],
   "source": [
    "# TESTING MODEL\n",
    "episodes = 5  # number of episodes, loop 5 times\n",
    "for episode in range(1, episodes+1):  # loop to test environment\n",
    "    obs = env.reset()  # get initial set of observation\n",
    "    done = False  \n",
    "    score = 0\n",
    "\n",
    "    while not done:\n",
    "        env.render()  #view the environment\n",
    "        #time.sleep(0.1)\n",
    "        action, _ = model.predict(obs)  #using model here\n",
    "        obs_state, reward, done, info = env.step(action)  #pass through our action in the environment\n",
    "        score += reward  #accumulating the reward\n",
    "    print('Episode:{} Score:{}' .format(episode, score))  \n",
    "env.close()"
   ]
  },
  {
   "cell_type": "code",
   "execution_count": null,
   "id": "24b06897",
   "metadata": {},
   "outputs": [],
   "source": [
    "obs = env.reset()"
   ]
  },
  {
   "cell_type": "code",
   "execution_count": null,
   "id": "7739ed57",
   "metadata": {},
   "outputs": [],
   "source": [
    "action, _ = model.predict(obs)"
   ]
  },
  {
   "cell_type": "code",
   "execution_count": null,
   "id": "d48960d7",
   "metadata": {},
   "outputs": [],
   "source": [
    "env.action_space.sample()"
   ]
  },
  {
   "cell_type": "code",
   "execution_count": null,
   "id": "928fcf64",
   "metadata": {},
   "outputs": [],
   "source": [
    "env.step(action)"
   ]
  },
  {
   "cell_type": "code",
   "execution_count": null,
   "id": "e04ccf60",
   "metadata": {},
   "outputs": [],
   "source": [
    "# VIEWING LOGS IN TENSORBOARD\n",
    "\n",
    "training_log_path = os.path.join(log_path, 'PPO_2')"
   ]
  },
  {
   "cell_type": "code",
   "execution_count": null,
   "id": "fa4e0b99",
   "metadata": {},
   "outputs": [],
   "source": [
    "training_log_path"
   ]
  },
  {
   "cell_type": "code",
   "execution_count": null,
   "id": "41141e79",
   "metadata": {},
   "outputs": [],
   "source": [
    "#!tensorboard --logdir={training_log_path}\n",
    "# view everything in tensorboard, do in terminal not here"
   ]
  },
  {
   "cell_type": "code",
   "execution_count": null,
   "id": "a6611168",
   "metadata": {},
   "outputs": [],
   "source": [
    "# ADDING CALLBACK TO OUR TRAINING STAGE\n",
    "# Dependency is a state in which one object uses a function of another object. \n",
    "# Data dependency, which describes a dependence relation between statements in a program.\n",
    "from stable_baselines3.common.callbacks import EvalCallback, StopTrainingOnRewardThreshold"
   ]
  },
  {
   "cell_type": "code",
   "execution_count": null,
   "id": "cb2961e9",
   "metadata": {},
   "outputs": [],
   "source": [
    "save_path = os.path.join('Training', 'Saved Models')"
   ]
  },
  {
   "cell_type": "code",
   "execution_count": null,
   "id": "4d3f81b7",
   "metadata": {},
   "outputs": [],
   "source": [
    "stop_callback = StopTrainingOnRewardThreshold(reward_threshold=200, verbose=1)\n",
    "eval_callback = EvalCallback(env,\n",
    "                             callback_on_new_best=stop_callback,\n",
    "                             eval_freq=10000,\n",
    "                             best_model_save_path=save_path,\n",
    "                             verbose=1)"
   ]
  },
  {
   "cell_type": "code",
   "execution_count": null,
   "id": "229a5208",
   "metadata": {},
   "outputs": [],
   "source": [
    "model = PPO('MlpPolicy', env, verbose=1, tensorboard_log=log_path)"
   ]
  },
  {
   "cell_type": "code",
   "execution_count": null,
   "id": "8da0a1d5",
   "metadata": {},
   "outputs": [],
   "source": [
    "model.learn(total_timesteps=20000, callback=eval_callback)"
   ]
  },
  {
   "cell_type": "code",
   "execution_count": null,
   "id": "661b52b6",
   "metadata": {},
   "outputs": [],
   "source": [
    "# CHANGING POLICIES\n",
    "net_arch = [dict(pi=[128,128,128,128], vf=[128,128,128,128])]"
   ]
  },
  {
   "cell_type": "code",
   "execution_count": null,
   "id": "a7f7d57a",
   "metadata": {},
   "outputs": [],
   "source": [
    "model = PPO('MlpPolicy', env, verbose=1, tensorboard_log=log_path, policy_kwargs={'net_arch':net_arch})"
   ]
  },
  {
   "cell_type": "code",
   "execution_count": null,
   "id": "e2e4fc34",
   "metadata": {},
   "outputs": [],
   "source": [
    "model.learn(total_timesteps=20000, callback=eval_callback)"
   ]
  }
 ],
 "metadata": {
  "kernelspec": {
   "display_name": "Python 3 (ipykernel)",
   "language": "python",
   "name": "python3"
  },
  "language_info": {
   "codemirror_mode": {
    "name": "ipython",
    "version": 3
   },
   "file_extension": ".py",
   "mimetype": "text/x-python",
   "name": "python",
   "nbconvert_exporter": "python",
   "pygments_lexer": "ipython3",
   "version": "3.11.5"
  }
 },
 "nbformat": 4,
 "nbformat_minor": 5
}
