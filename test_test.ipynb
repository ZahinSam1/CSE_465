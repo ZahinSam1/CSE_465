{
 "cells": [
  {
   "cell_type": "code",
   "execution_count": 46,
   "metadata": {},
   "outputs": [],
   "source": [
    "import numpy as np \n",
    "import pygame\n",
    "from Agents.agent import Agent\n",
    "from Walls.wall_class import Walls\n",
    "from Walls.collision_detection import detect_collision"
   ]
  },
  {
   "cell_type": "code",
   "execution_count": 22,
   "metadata": {},
   "outputs": [],
   "source": [
    "SCREEN_WIDTH = 600\n",
    "SCREEN_HEIGHT = 600"
   ]
  },
  {
   "cell_type": "code",
   "execution_count": 17,
   "metadata": {},
   "outputs": [
    {
     "data": {
      "text/plain": [
       "<rect(0, 0, 400, 400)>"
      ]
     },
     "execution_count": 17,
     "metadata": {},
     "output_type": "execute_result"
    }
   ],
   "source": [
    "pygame.init()\n",
    "pygame.display.init()\n",
    "window = pygame.display.set_mode((SCREEN_WIDTH, SCREEN_WIDTH))\n",
    "clock = pygame.time.Clock()\n",
    "screen = pygame.Surface((SCREEN_WIDTH, SCREEN_WIDTH))\n",
    "screen.fill((255, 255, 255))"
   ]
  },
  {
   "cell_type": "code",
   "execution_count": 28,
   "metadata": {},
   "outputs": [],
   "source": [
    "\n",
    "WALLS = {\n",
    "    1: {'x': SCREEN_WIDTH // 4 - 25, 'y': 0, 'width': 50, 'height': 450},\n",
    "    2: {'x': SCREEN_WIDTH // 4 - 25, 'y': 550, 'width': 50, 'height': 50},\n",
    "    3: {'x': SCREEN_WIDTH // 2 - 25, 'y': 0, 'width': 50, 'height': 50},\n",
    "    4: {'x': SCREEN_WIDTH // 2 - 25, 'y': 150, 'width': 50, 'height': 450},\n",
    "}\n",
    "\n",
    "wall = Walls(pygame)\n",
    "walls = wall.make_wall(WALLS)\n"
   ]
  },
  {
   "cell_type": "code",
   "execution_count": 42,
   "metadata": {},
   "outputs": [],
   "source": [
    "agent = Agent('predator', 0)\n",
    "agent.agent_reset(600, 600, walls)"
   ]
  },
  {
   "cell_type": "code",
   "execution_count": 68,
   "metadata": {},
   "outputs": [],
   "source": [
    "def render():\n",
    "    screen.fill((255, 255, 255))\n",
    "    pygame.draw.circle(screen, (255, 0, 0), agent.center, agent.radius)\n",
    "    pygame.draw.line(screen, (255, 0, 0), agent.center, agent.draw_direction_end, 5)\n",
    "    \n",
    "    line_of_sight = None\n",
    "    agent_pos = agent.center\n",
    "    goal = (550, 300)\n",
    "    \n",
    "\n",
    "\n",
    "\n",
    "    for key, wall in WALLS.items():\n",
    "        pygame.draw.rect(screen, (0, 0, 255), (wall['x'], wall['y'], wall['width'], wall['height']))\n",
    "\n",
    "    pygame.draw.circle(screen, (0, 255, 0), goal, 20)\n",
    "\n",
    "    \n",
    "\n",
    "    window.blit(screen, screen.get_rect())\n",
    "    pygame.event.pump()\n",
    "    pygame.display.update()\n",
    "\n",
    "    clock.tick(20)\n",
    "\n",
    "def close():\n",
    "    if window is not None:\n",
    "        pygame.display.quit()\n",
    "        pygame.quit()"
   ]
  },
  {
   "cell_type": "code",
   "execution_count": 67,
   "metadata": {},
   "outputs": [],
   "source": [
    "pygame.init()\n",
    "pygame.display.init()\n",
    "window = pygame.display.set_mode((SCREEN_WIDTH, SCREEN_WIDTH))\n",
    "clock = pygame.time.Clock()\n",
    "screen = pygame.Surface((SCREEN_WIDTH, SCREEN_WIDTH))\n",
    "screen.fill((255, 255, 255))\n",
    "\n",
    "\n",
    "running = True\n",
    "range_all = 570\n",
    "while running:\n",
    "    for event in pygame.event.get():\n",
    "        if event.type == pygame.QUIT:\n",
    "            running = False\n",
    "\n",
    "        keys = pygame.key.get_pressed()\n",
    "        # Check for key presses\n",
    "\n",
    "    if keys[pygame.K_UP]:\n",
    "        agent.step_update(2, range_all, range_all)\n",
    "    if keys[pygame.K_LEFT]:\n",
    "        agent.step_update(0, range_all, range_all)\n",
    "    if keys[pygame.K_RIGHT]:\n",
    "        agent.step_update(1, range_all, range_all)\n",
    "    \n",
    "    agent = detect_collision(agent, walls)\n",
    "    \n",
    "    render()\n",
    "\n",
    "pygame.display.quit()\n",
    "pygame.quit()\n"
   ]
  },
  {
   "cell_type": "code",
   "execution_count": null,
   "metadata": {},
   "outputs": [],
   "source": []
  }
 ],
 "metadata": {
  "kernelspec": {
   "display_name": "myenv",
   "language": "python",
   "name": "python3"
  },
  "language_info": {
   "codemirror_mode": {
    "name": "ipython",
    "version": 3
   },
   "file_extension": ".py",
   "mimetype": "text/x-python",
   "name": "python",
   "nbconvert_exporter": "python",
   "pygments_lexer": "ipython3",
   "version": "3.11.5"
  }
 },
 "nbformat": 4,
 "nbformat_minor": 2
}
