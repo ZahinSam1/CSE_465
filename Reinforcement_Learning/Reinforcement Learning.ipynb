{
 "cells": [
  {
   "cell_type": "code",
   "execution_count": null,
   "id": "959a8d14",
   "metadata": {},
   "outputs": [],
   "source": [
    "# 1. import dependencies\n",
    "#%pip install stable-baselines3[extra]"
   ]
  },
  {
   "cell_type": "code",
   "execution_count": 1,
   "id": "c182d571",
   "metadata": {},
   "outputs": [],
   "source": [
    "import os\n",
    "import gymnasium as gym\n",
    "#import time\n",
    "from stable_baselines3 import PPO  #first algorithm import\n",
    "from stable_baselines3.common.vec_env import DummyVecEnv  #wrapper around our environment\n",
    "from stable_baselines3.common.evaluation import evaluate_policy  \n",
    "#to test our reward and standard deviation  "
   ]
  },
  {
   "cell_type": "code",
   "execution_count": 4,
   "id": "f734b186",
   "metadata": {},
   "outputs": [],
   "source": [
    "# 2. load environment\n",
    "#preinstalled open ai gym env\n",
    "environment_name = 'CartPole-v1'\n",
    "env = gym.make(environment_name, render_mode= 'human')  # making our own env\n"
   ]
  },
  {
   "cell_type": "code",
   "execution_count": 5,
   "id": "a68f0585",
   "metadata": {},
   "outputs": [
    {
     "name": "stderr",
     "output_type": "stream",
     "text": [
      "c:\\Users\\nehli\\anaconda3\\envs\\myenv1\\Lib\\site-packages\\gymnasium\\envs\\classic_control\\cartpole.py:180: UserWarning: \u001b[33mWARN: You are calling 'step()' even though this environment has already returned terminated = True. You should always call 'reset()' once you receive 'terminated = True' -- any further steps are undefined behavior.\u001b[0m\n",
      "  logger.warn(\n"
     ]
    }
   ],
   "source": [
    "# loop to test environment\n",
    "episodes = 5  # number of episodes, loop 5 times\n",
    "for episode in range(1, episodes+1):  # loop to test environment\n",
    "    state = env.reset()  # get initial set of observation\n",
    "    done = False  \n",
    "    score = 0\n",
    "\n",
    "    while not done:\n",
    "        env.render()  #view the environment\n",
    "        #time.sleep(0.1)\n",
    "        action = env.action_space.sample()  #genertating random action\n",
    "        n_state, reward, truncated, done, info = env.step(action)  #pass through our action in the environment\n",
    "        score += reward  #accumulating the reward\n",
    "    print('Episode:{} Score:{}' .format(episode, score))  \n",
    "env.close()"
   ]
  },
  {
   "cell_type": "code",
   "execution_count": null,
   "id": "8c1d7de6",
   "metadata": {},
   "outputs": [],
   "source": [
    "#understanding env\n",
    "\n",
    "env.action_space\n",
    "# action 0 or 1. 0 will push to left and 1 will push to right\n",
    "# type of action space\n"
   ]
  },
  {
   "cell_type": "code",
   "execution_count": null,
   "id": "3f75ea4b",
   "metadata": {},
   "outputs": [],
   "source": [
    "env.observation_space\n"
   ]
  },
  {
   "cell_type": "code",
   "execution_count": null,
   "id": "50a35708",
   "metadata": {},
   "outputs": [],
   "source": [
    "env.observation_space.sample()\n",
    "# type of observation space\n",
    "# car_position, car_velocity, pole_angle, pole_velocity"
   ]
  },
  {
   "cell_type": "code",
   "execution_count": null,
   "id": "727fc851",
   "metadata": {},
   "outputs": [],
   "source": [
    "# make directories first\n",
    "log_path = os.path.join('Training', 'Logs')"
   ]
  },
  {
   "cell_type": "code",
   "execution_count": null,
   "id": "2543292b",
   "metadata": {},
   "outputs": [],
   "source": [
    "log_path"
   ]
  },
  {
   "cell_type": "code",
   "execution_count": null,
   "id": "d524f1f5",
   "metadata": {},
   "outputs": [],
   "source": [
    "env = gym.make(environment_name, render_mode = 'human')\n",
    "env = DummyVecEnv([lambda: env])\n",
    "model = PPO('MlpPolicy', env, verbose=1, tensorboard_log=log_path)"
   ]
  },
  {
   "cell_type": "code",
   "execution_count": null,
   "id": "3ce3a35d",
   "metadata": {},
   "outputs": [],
   "source": [
    "model.learn(total_timesteps=20000)"
   ]
  },
  {
   "cell_type": "code",
   "execution_count": null,
   "id": "baa3d797",
   "metadata": {},
   "outputs": [],
   "source": [
    "# save and reload model\n",
    "PPO_Path = os.path.join('Training', 'Saved Models', 'PPO_Model_Cartpole')"
   ]
  },
  {
   "cell_type": "code",
   "execution_count": null,
   "id": "710483d5",
   "metadata": {},
   "outputs": [],
   "source": [
    "model.save(PPO_Path)\n",
    "model = PPO.load(PPO_Path, env=env)"
   ]
  },
  {
   "cell_type": "code",
   "execution_count": 1,
   "id": "399dd8a4",
   "metadata": {},
   "outputs": [
    {
     "ename": "NameError",
     "evalue": "name 'evaluate_policy' is not defined",
     "output_type": "error",
     "traceback": [
      "\u001b[1;31m---------------------------------------------------------------------------\u001b[0m",
      "\u001b[1;31mNameError\u001b[0m                                 Traceback (most recent call last)",
      "\u001b[1;32mc:\\Shanila\\CSE\\cse465\\New folder\\CSE_465\\Reinforcement_Learning\\Reinforcement Learning.ipynb Cell 14\u001b[0m line \u001b[0;36m2\n\u001b[0;32m      <a href='vscode-notebook-cell:/c%3A/Shanila/CSE/cse465/New%20folder/CSE_465/Reinforcement_Learning/Reinforcement%20Learning.ipynb#X21sZmlsZQ%3D%3D?line=0'>1</a>\u001b[0m \u001b[39m# evaluation\u001b[39;00m\n\u001b[1;32m----> <a href='vscode-notebook-cell:/c%3A/Shanila/CSE/cse465/New%20folder/CSE_465/Reinforcement_Learning/Reinforcement%20Learning.ipynb#X21sZmlsZQ%3D%3D?line=1'>2</a>\u001b[0m evaluate_policy(model, env, n_eval_episodes\u001b[39m=\u001b[39m\u001b[39m10\u001b[39m, render\u001b[39m=\u001b[39m\u001b[39mTrue\u001b[39;00m)\n",
      "\u001b[1;31mNameError\u001b[0m: name 'evaluate_policy' is not defined"
     ]
    }
   ],
   "source": [
    "# evaluation\n",
    "evaluate_policy(model, env, n_eval_episodes=10, render=True)\n",
    "# render is for visualization purposes so if we dont wanna see then render false"
   ]
  },
  {
   "cell_type": "code",
   "execution_count": null,
   "id": "9673202b",
   "metadata": {},
   "outputs": [],
   "source": []
  }
 ],
 "metadata": {
  "kernelspec": {
   "display_name": "Python 3 (ipykernel)",
   "language": "python",
   "name": "python3"
  },
  "language_info": {
   "codemirror_mode": {
    "name": "ipython",
    "version": 3
   },
   "file_extension": ".py",
   "mimetype": "text/x-python",
   "name": "python",
   "nbconvert_exporter": "python",
   "pygments_lexer": "ipython3",
   "version": "3.11.5"
  }
 },
 "nbformat": 4,
 "nbformat_minor": 5
}
