{
 "cells": [
  {
   "cell_type": "code",
   "execution_count": 13,
   "id": "959a8d14",
   "metadata": {},
   "outputs": [],
   "source": [
    "# 1. import dependencies\n",
    "# %pip install stable-baselines3[extra]"
   ]
  },
  {
   "cell_type": "code",
   "execution_count": 14,
   "id": "c182d571",
   "metadata": {},
   "outputs": [],
   "source": [
    "import os\n",
    "import gym\n",
    "import time\n",
    "from stable_baselines3 import PPO  #first algorithm import\n",
    "from stable_baselines3.common.vec_env import DummyVecEnv  #wrapper around our environment\n",
    "from stable_baselines3.common.evaluation import evaluate_policy  \n",
    "#to test our reward and standard deviation  "
   ]
  },
  {
   "cell_type": "code",
   "execution_count": 15,
   "id": "f734b186",
   "metadata": {},
   "outputs": [],
   "source": [
    "# 2. load environment\n",
    "#preinstalled open ai gym env\n",
    "env = gym.make('CartPole-v0', render_mode= 'human')  # making our own env"
   ]
  },
  {
   "cell_type": "code",
   "execution_count": null,
   "id": "a68f0585",
   "metadata": {},
   "outputs": [],
   "source": [
    "# loop to test environment\n",
    "episodes = 5  # number of episodes, loop 5 times\n",
    "for episode in range(1, episodes+1):  # loop to test environment\n",
    "    state = env.reset()  # get initial set of observation\n",
    "    done = False  \n",
    "    score = 0\n",
    "\n",
    "    while not done:\n",
    "        env.render()  #view the environment\n",
    "        #time.sleep(0.1)\n",
    "        action = env.action_space.sample()  #genertating random action\n",
    "        n_state, reward, truncated, done, info = env.step(action)  #pass through our action in the environment\n",
    "        score += reward  #accumulating the reward\n",
    "    print('Episode:{} Score:{}' .format(episode, score))  \n",
    "env.close()"
   ]
  },
  {
   "cell_type": "code",
   "execution_count": null,
   "id": "8c1d7de6",
   "metadata": {},
   "outputs": [],
   "source": [
    "#understanding env\n",
    "\n",
    "env.action_space"
   ]
  },
  {
   "cell_type": "code",
   "execution_count": null,
   "id": "3f75ea4b",
   "metadata": {},
   "outputs": [],
   "source": []
  }
 ],
 "metadata": {
  "kernelspec": {
   "display_name": "Python 3 (ipykernel)",
   "language": "python",
   "name": "python3"
  },
  "language_info": {
   "codemirror_mode": {
    "name": "ipython",
    "version": 3
   },
   "file_extension": ".py",
   "mimetype": "text/x-python",
   "name": "python",
   "nbconvert_exporter": "python",
   "pygments_lexer": "ipython3",
   "version": "3.11.5"
  }
 },
 "nbformat": 4,
 "nbformat_minor": 5
}
