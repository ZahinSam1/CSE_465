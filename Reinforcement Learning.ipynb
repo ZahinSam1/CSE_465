{
 "cells": [
  {
   "cell_type": "code",
   "execution_count": 2,
   "id": "959a8d14",
   "metadata": {},
   "outputs": [],
   "source": [
    "# 1. import dependencies\n",
    "# %pip install stable-baselines3[extra]"
   ]
  },
  {
   "cell_type": "code",
   "execution_count": 3,
   "id": "c182d571",
   "metadata": {},
   "outputs": [],
   "source": [
    "import os\n",
    "import gym\n",
    "import time\n",
    "from stable_baselines3 import PPO  #first algorithm import\n",
    "from stable_baselines3.common.vec_env import DummyVecEnv  #wrapper around our environment\n",
    "from stable_baselines3.common.evaluation import evaluate_policy  \n",
    "#to test our reward and standard deviation  "
   ]
  },
  {
   "cell_type": "code",
   "execution_count": 4,
   "id": "f734b186",
   "metadata": {},
   "outputs": [
    {
     "name": "stderr",
     "output_type": "stream",
     "text": [
      "c:\\Users\\nehli\\anaconda3\\envs\\myenv1\\Lib\\site-packages\\gym\\envs\\registration.py:555: UserWarning: \u001b[33mWARN: The environment CartPole-v0 is out of date. You should consider upgrading to version `v1`.\u001b[0m\n",
      "  logger.warn(\n"
     ]
    }
   ],
   "source": [
    "# 2. load environment\n",
    "#preinstalled open ai gym env\n",
    "env = gym.make('CartPole-v0', render_mode= 'human')  # making our own env"
   ]
  },
  {
   "cell_type": "code",
   "execution_count": null,
   "id": "a68f0585",
   "metadata": {},
   "outputs": [],
   "source": [
    "# loop to test environment\n",
    "episodes = 5  # number of episodes, loop 5 times\n",
    "for episode in range(1, episodes+1):  # loop to test environment\n",
    "    state = env.reset()  # get initial set of observation\n",
    "    done = False  \n",
    "    score = 0\n",
    "\n",
    "    while not done:\n",
    "        env.render()  #view the environment\n",
    "        #time.sleep(0.1)\n",
    "        action = env.action_space.sample()  #genertating random action\n",
    "        n_state, reward, truncated, done, info = env.step(action)  #pass through our action in the environment\n",
    "        score += reward  #accumulating the reward\n",
    "    print('Episode:{} Score:{}' .format(episode, score))  \n",
    "env.close()"
   ]
  },
  {
   "cell_type": "code",
   "execution_count": 9,
   "id": "8c1d7de6",
   "metadata": {},
   "outputs": [
    {
     "data": {
      "text/plain": [
       "Discrete(2)"
      ]
     },
     "execution_count": 9,
     "metadata": {},
     "output_type": "execute_result"
    }
   ],
   "source": [
    "#understanding env\n",
    "\n",
    "env.action_space\n",
    "# action 0 or 1. 0 will push to left and 1 will push to right\n",
    "# type of action space\n"
   ]
  },
  {
   "cell_type": "code",
   "execution_count": 10,
   "id": "3f75ea4b",
   "metadata": {},
   "outputs": [
    {
     "data": {
      "text/plain": [
       "Box([-4.8000002e+00 -3.4028235e+38 -4.1887903e-01 -3.4028235e+38], [4.8000002e+00 3.4028235e+38 4.1887903e-01 3.4028235e+38], (4,), float32)"
      ]
     },
     "execution_count": 10,
     "metadata": {},
     "output_type": "execute_result"
    }
   ],
   "source": [
    "env.observation_space\n"
   ]
  },
  {
   "cell_type": "code",
   "execution_count": 11,
   "id": "50a35708",
   "metadata": {},
   "outputs": [
    {
     "data": {
      "text/plain": [
       "array([-1.4871234e+00,  3.0922621e+38,  3.1774923e-01, -3.1098758e+37],\n",
       "      dtype=float32)"
      ]
     },
     "execution_count": 11,
     "metadata": {},
     "output_type": "execute_result"
    }
   ],
   "source": [
    "env.observation_space.sample()\n",
    "# type of observation space\n",
    "# car_position, car_velocity, pole_angle, pole_velocity"
   ]
  },
  {
   "cell_type": "code",
   "execution_count": null,
   "id": "727fc851",
   "metadata": {},
   "outputs": [],
   "source": []
  }
 ],
 "metadata": {
  "kernelspec": {
   "display_name": "Python 3 (ipykernel)",
   "language": "python",
   "name": "python3"
  },
  "language_info": {
   "codemirror_mode": {
    "name": "ipython",
    "version": 3
   },
   "file_extension": ".py",
   "mimetype": "text/x-python",
   "name": "python",
   "nbconvert_exporter": "python",
   "pygments_lexer": "ipython3",
   "version": "3.11.5"
  }
 },
 "nbformat": 4,
 "nbformat_minor": 5
}
